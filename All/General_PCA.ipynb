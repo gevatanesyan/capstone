{
 "cells": [
  {
   "cell_type": "code",
   "execution_count": 1,
   "metadata": {},
   "outputs": [],
   "source": [
    "import pandas as pd\n",
    "import matplotlib.pyplot as plt\n",
    "import numpy as np\n",
    "import re\n",
    "import seaborn as sns\n",
    "from tqdm import tqdm\n",
    "\n",
    "\n",
    "\n",
    "import numpy as np\n",
    "import pandas as pd\n",
    "import matplotlib.pyplot as plt\n",
    "import seaborn as sns\n",
    "from sklearn.preprocessing import StandardScaler\n",
    "import re\n",
    "\n",
    "from statsmodels.formula.api import ols\n",
    "import statsmodels.api as sm\n",
    "from scipy import stats\n",
    "from sklearn import metrics\n",
    "from sklearn.model_selection import train_test_split\n",
    "from statsmodels.api import qqplot \n",
    "from scipy.stats import shapiro,ttest_ind\n",
    "from statsmodels.stats.diagnostic import het_breuschpagan,linear_rainbow  \n",
    "from sklearn import linear_model\n",
    "from sklearn.ensemble import RandomForestClassifier, GradientBoostingRegressor\n",
    "from sklearn.model_selection import train_test_split, GridSearchCV,cross_val_score\n",
    "from sklearn.tree import DecisionTreeClassifier\n",
    "import lightgbm as lgb\n",
    "from sklearn.metrics import roc_auc_score\n",
    "from sklearn.metrics import classification_report\n",
    "\n",
    "from sklearn.linear_model import LogisticRegression\n",
    "from sklearn.neural_network import MLPClassifier\n",
    "from sklearn.datasets import make_classification\n",
    "from sklearn.model_selection import train_test_split\n",
    "from sklearn.svm import LinearSVC,SVC\n",
    "from sklearn.metrics import roc_curve\n",
    "from sklearn.neural_network import MLPClassifier\n",
    "from sklearn.cluster import KMeans\n",
    "from sklearn.metrics import silhouette_score"
   ]
  },
  {
   "cell_type": "code",
   "execution_count": 2,
   "metadata": {},
   "outputs": [],
   "source": [
    "data = pd.read_csv('All_data.csv')"
   ]
  },
  {
   "cell_type": "code",
   "execution_count": 3,
   "metadata": {},
   "outputs": [],
   "source": [
    "grades = pd.read_csv('All_grades.csv')"
   ]
  },
  {
   "cell_type": "markdown",
   "metadata": {},
   "source": [
    "# Data Cleaning"
   ]
  },
  {
   "cell_type": "code",
   "execution_count": 4,
   "metadata": {},
   "outputs": [],
   "source": [
    "users = grades.user_id.tolist()"
   ]
  },
  {
   "cell_type": "code",
   "execution_count": 5,
   "metadata": {},
   "outputs": [],
   "source": [
    "user_id = []\n",
    "for i in data['Description']:\n",
    "    try:\n",
    "        discovered_id = i.split(\"'\")[1].replace('.',\"\")\n",
    "        _ = int(discovered_id)\n",
    "        \n",
    "        user_id.append(discovered_id)\n",
    "        \n",
    "    except:\n",
    "        user_id.append('error')\n",
    " "
   ]
  },
  {
   "cell_type": "code",
   "execution_count": 6,
   "metadata": {},
   "outputs": [],
   "source": [
    "data['user_id'] = user_id\n",
    "data_users = data.user_id.unique().tolist()"
   ]
  },
  {
   "cell_type": "code",
   "execution_count": 7,
   "metadata": {},
   "outputs": [],
   "source": [
    "data_users_int = []\n",
    "for i in data_users:\n",
    "    try: \n",
    "        data_users_int.append(int(i))\n",
    "    except: \n",
    "        continue"
   ]
  },
  {
   "cell_type": "code",
   "execution_count": 8,
   "metadata": {},
   "outputs": [],
   "source": [
    "not_students = list(set(data_users_int) - set(users))"
   ]
  },
  {
   "cell_type": "code",
   "execution_count": 9,
   "metadata": {},
   "outputs": [
    {
     "data": {
      "text/plain": [
       "['0', '5120', '2', '5123', '5125', '5130', '7179', '5133', '5135', '2064']"
      ]
     },
     "execution_count": 9,
     "metadata": {},
     "output_type": "execute_result"
    }
   ],
   "source": [
    "not_students.append('error')\n",
    "not_students = [str(i) for i in not_students]\n",
    "not_students[:10]"
   ]
  },
  {
   "cell_type": "code",
   "execution_count": 10,
   "metadata": {},
   "outputs": [],
   "source": [
    "data=data[~data.user_id.isin(not_students)]"
   ]
  },
  {
   "cell_type": "code",
   "execution_count": 11,
   "metadata": {},
   "outputs": [],
   "source": [
    "data = data.reset_index(drop = True)"
   ]
  },
  {
   "cell_type": "code",
   "execution_count": null,
   "metadata": {},
   "outputs": [],
   "source": []
  },
  {
   "cell_type": "markdown",
   "metadata": {},
   "source": [
    "# Dictionary"
   ]
  },
  {
   "cell_type": "code",
   "execution_count": 12,
   "metadata": {},
   "outputs": [],
   "source": [
    "data['Time'] = pd.to_datetime(data['Time'], dayfirst=True)"
   ]
  },
  {
   "cell_type": "code",
   "execution_count": 13,
   "metadata": {},
   "outputs": [],
   "source": [
    "def extract_date(datetime):\n",
    "    return datetime.day, datetime.week, datetime.month,datetime.year\n",
    "\n",
    "data['day'], data['week'], data['month'], data['year'] = zip(*data['Time'].map(extract_date))\n",
    "\n",
    "data['week'] = data['week'] - (data['week'].min() -1)"
   ]
  },
  {
   "cell_type": "code",
   "execution_count": 14,
   "metadata": {},
   "outputs": [],
   "source": [
    "interval_def_template = {\n",
    "       'start_date': '',\n",
    "       'end_date': '',\n",
    "       'student_ids' : {}\n",
    "}"
   ]
  },
  {
   "cell_type": "code",
   "execution_count": 15,
   "metadata": {},
   "outputs": [],
   "source": [
    "def filter_intervals_data(data, time='week'):\n",
    "\n",
    "    user_activity_dict = {}\n",
    "\n",
    "    interval_range = sorted(data[time].unique())\n",
    "    unique_event_dict = {item : 0 for item in data['Event name'].unique()}\n",
    "\n",
    "    for interval in tqdm(interval_range):\n",
    "        interval_def_template = {\n",
    "           'start_date': '',\n",
    "           'end_date': '',\n",
    "           'student_ids' : {}\n",
    "        }\n",
    "\n",
    "        dict_template = {}\n",
    "\n",
    "        filtered_data = data[data[time]==interval]\n",
    "        int_start, int_end = str(filtered_data.Time.min().date()), str(filtered_data.Time.max().date())\n",
    "\n",
    "        interval_def_template['start_date'], interval_def_template['end_date'] = int_start, int_end\n",
    "\n",
    "        for user_id in filtered_data.user_id.unique():\n",
    "            \n",
    "            user_filtered_events = filtered_data[filtered_data.user_id==user_id]['Event name'].value_counts()\n",
    "            dict_template[user_id] = dict(unique_event_dict)\n",
    "\n",
    "            for event, count in dict(user_filtered_events).items():\n",
    "                dict_template[user_id][event] = count\n",
    "            \n",
    "            dict_template[user_id]['type'] = filtered_data[filtered_data.user_id==user_id]['type'].unique()[0]\n",
    "            dict_template[user_id]['level'] = filtered_data[filtered_data.user_id==user_id]['level'].unique()[0]\n",
    "\n",
    "        interval_def_template['student_ids'] = dict_template\n",
    "\n",
    "        user_activity_dict[f\"{time}_{interval}\"] = interval_def_template\n",
    "        \n",
    "    return user_activity_dict\n",
    "    \n"
   ]
  },
  {
   "cell_type": "code",
   "execution_count": null,
   "metadata": {},
   "outputs": [],
   "source": []
  },
  {
   "cell_type": "markdown",
   "metadata": {},
   "source": [
    "# Dict to Dataframe and Merging with Grades"
   ]
  },
  {
   "cell_type": "code",
   "execution_count": 16,
   "metadata": {},
   "outputs": [
    {
     "name": "stderr",
     "output_type": "stream",
     "text": [
      "100%|██████████| 1/1 [00:28<00:00, 28.64s/it]\n"
     ]
    }
   ],
   "source": [
    "user_filtered_events = filter_intervals_data(data, time='year')"
   ]
  },
  {
   "cell_type": "code",
   "execution_count": 17,
   "metadata": {},
   "outputs": [],
   "source": [
    "total_user_activity = []\n",
    "time_interval_list = []\n",
    "\n",
    "for time_interval, user_events in user_filtered_events.items():\n",
    "    total_user_activity.append(\n",
    "        pd.DataFrame(user_filtered_events[f'{time_interval}']['student_ids'].values(), index=user_filtered_events[f'{time_interval}']['student_ids'].keys()))\n",
    "    \n",
    "for time_interval, user_events in user_filtered_events.items():\n",
    "    time_list = [time_interval for i in range(len(user_filtered_events[time_interval]['student_ids'].keys()))]\n",
    "    time_interval_list+=time_list"
   ]
  },
  {
   "cell_type": "code",
   "execution_count": 18,
   "metadata": {},
   "outputs": [],
   "source": [
    "k = pd.concat(total_user_activity).reset_index()"
   ]
  },
  {
   "cell_type": "code",
   "execution_count": 19,
   "metadata": {},
   "outputs": [],
   "source": [
    "time_interval_df = pd.DataFrame(time_interval_list, columns = ['time_interval'])"
   ]
  },
  {
   "cell_type": "code",
   "execution_count": 20,
   "metadata": {},
   "outputs": [],
   "source": [
    "final = pd.concat([time_interval_df, k], axis=1)"
   ]
  },
  {
   "cell_type": "code",
   "execution_count": 21,
   "metadata": {},
   "outputs": [],
   "source": [
    "final.rename(columns={'index': 'user_id'},inplace =True)"
   ]
  },
  {
   "cell_type": "code",
   "execution_count": 22,
   "metadata": {},
   "outputs": [],
   "source": [
    "final.user_id = final.user_id.astype('int')"
   ]
  },
  {
   "cell_type": "code",
   "execution_count": 23,
   "metadata": {},
   "outputs": [],
   "source": [
    "final = final.merge(grades, on  = 'user_id',how = 'left')"
   ]
  },
  {
   "cell_type": "code",
   "execution_count": 24,
   "metadata": {},
   "outputs": [],
   "source": [
    "final.dropna(inplace = True)"
   ]
  },
  {
   "cell_type": "code",
   "execution_count": 25,
   "metadata": {},
   "outputs": [
    {
     "data": {
      "text/html": [
       "<div>\n",
       "<style scoped>\n",
       "    .dataframe tbody tr th:only-of-type {\n",
       "        vertical-align: middle;\n",
       "    }\n",
       "\n",
       "    .dataframe tbody tr th {\n",
       "        vertical-align: top;\n",
       "    }\n",
       "\n",
       "    .dataframe thead th {\n",
       "        text-align: right;\n",
       "    }\n",
       "</style>\n",
       "<table border=\"1\" class=\"dataframe\">\n",
       "  <thead>\n",
       "    <tr style=\"text-align: right;\">\n",
       "      <th></th>\n",
       "      <th>time_interval</th>\n",
       "      <th>user_id</th>\n",
       "      <th>The status of the submission has been viewed.</th>\n",
       "      <th>Course module viewed</th>\n",
       "      <th>Feedback viewed</th>\n",
       "      <th>Course viewed</th>\n",
       "      <th>Grade user report viewed</th>\n",
       "      <th>User profile viewed</th>\n",
       "      <th>Course activity completion updated</th>\n",
       "      <th>Course user report viewed</th>\n",
       "      <th>...</th>\n",
       "      <th>Subscription created</th>\n",
       "      <th>Subscription deleted</th>\n",
       "      <th>Group member added</th>\n",
       "      <th>Choice answer deleted</th>\n",
       "      <th>Grade item updated</th>\n",
       "      <th>Recent activity viewed</th>\n",
       "      <th>An online text has been uploaded.</th>\n",
       "      <th>type</th>\n",
       "      <th>level</th>\n",
       "      <th>Grades</th>\n",
       "    </tr>\n",
       "  </thead>\n",
       "  <tbody>\n",
       "    <tr>\n",
       "      <th>0</th>\n",
       "      <td>year_2020</td>\n",
       "      <td>2308</td>\n",
       "      <td>312</td>\n",
       "      <td>869</td>\n",
       "      <td>110</td>\n",
       "      <td>805</td>\n",
       "      <td>89</td>\n",
       "      <td>14</td>\n",
       "      <td>58</td>\n",
       "      <td>0</td>\n",
       "      <td>...</td>\n",
       "      <td>0</td>\n",
       "      <td>0</td>\n",
       "      <td>0</td>\n",
       "      <td>0</td>\n",
       "      <td>0</td>\n",
       "      <td>0</td>\n",
       "      <td>0</td>\n",
       "      <td>Quantitative</td>\n",
       "      <td>undergrad</td>\n",
       "      <td>2.3</td>\n",
       "    </tr>\n",
       "    <tr>\n",
       "      <th>1</th>\n",
       "      <td>year_2020</td>\n",
       "      <td>1931</td>\n",
       "      <td>190</td>\n",
       "      <td>608</td>\n",
       "      <td>32</td>\n",
       "      <td>332</td>\n",
       "      <td>7</td>\n",
       "      <td>3</td>\n",
       "      <td>69</td>\n",
       "      <td>208</td>\n",
       "      <td>...</td>\n",
       "      <td>0</td>\n",
       "      <td>0</td>\n",
       "      <td>0</td>\n",
       "      <td>0</td>\n",
       "      <td>0</td>\n",
       "      <td>0</td>\n",
       "      <td>0</td>\n",
       "      <td>Quantitative</td>\n",
       "      <td>undergrad</td>\n",
       "      <td>4.0</td>\n",
       "    </tr>\n",
       "    <tr>\n",
       "      <th>2</th>\n",
       "      <td>year_2020</td>\n",
       "      <td>2084</td>\n",
       "      <td>257</td>\n",
       "      <td>416</td>\n",
       "      <td>75</td>\n",
       "      <td>353</td>\n",
       "      <td>2</td>\n",
       "      <td>1</td>\n",
       "      <td>69</td>\n",
       "      <td>36</td>\n",
       "      <td>...</td>\n",
       "      <td>0</td>\n",
       "      <td>0</td>\n",
       "      <td>0</td>\n",
       "      <td>0</td>\n",
       "      <td>0</td>\n",
       "      <td>0</td>\n",
       "      <td>0</td>\n",
       "      <td>Quantitative</td>\n",
       "      <td>undergrad</td>\n",
       "      <td>2.7</td>\n",
       "    </tr>\n",
       "    <tr>\n",
       "      <th>3</th>\n",
       "      <td>year_2020</td>\n",
       "      <td>2378</td>\n",
       "      <td>331</td>\n",
       "      <td>725</td>\n",
       "      <td>113</td>\n",
       "      <td>564</td>\n",
       "      <td>39</td>\n",
       "      <td>2</td>\n",
       "      <td>57</td>\n",
       "      <td>1</td>\n",
       "      <td>...</td>\n",
       "      <td>0</td>\n",
       "      <td>0</td>\n",
       "      <td>0</td>\n",
       "      <td>0</td>\n",
       "      <td>0</td>\n",
       "      <td>0</td>\n",
       "      <td>0</td>\n",
       "      <td>Quantitative</td>\n",
       "      <td>undergrad</td>\n",
       "      <td>4.0</td>\n",
       "    </tr>\n",
       "    <tr>\n",
       "      <th>4</th>\n",
       "      <td>year_2020</td>\n",
       "      <td>1943</td>\n",
       "      <td>544</td>\n",
       "      <td>1114</td>\n",
       "      <td>179</td>\n",
       "      <td>1890</td>\n",
       "      <td>152</td>\n",
       "      <td>33</td>\n",
       "      <td>85</td>\n",
       "      <td>9</td>\n",
       "      <td>...</td>\n",
       "      <td>0</td>\n",
       "      <td>0</td>\n",
       "      <td>0</td>\n",
       "      <td>0</td>\n",
       "      <td>0</td>\n",
       "      <td>0</td>\n",
       "      <td>0</td>\n",
       "      <td>Quantitative</td>\n",
       "      <td>undergrad</td>\n",
       "      <td>4.0</td>\n",
       "    </tr>\n",
       "  </tbody>\n",
       "</table>\n",
       "<p>5 rows × 65 columns</p>\n",
       "</div>"
      ],
      "text/plain": [
       "  time_interval  user_id  The status of the submission has been viewed.  \\\n",
       "0     year_2020     2308                                            312   \n",
       "1     year_2020     1931                                            190   \n",
       "2     year_2020     2084                                            257   \n",
       "3     year_2020     2378                                            331   \n",
       "4     year_2020     1943                                            544   \n",
       "\n",
       "   Course module viewed  Feedback viewed  Course viewed  \\\n",
       "0                   869              110            805   \n",
       "1                   608               32            332   \n",
       "2                   416               75            353   \n",
       "3                   725              113            564   \n",
       "4                  1114              179           1890   \n",
       "\n",
       "   Grade user report viewed  User profile viewed  \\\n",
       "0                        89                   14   \n",
       "1                         7                    3   \n",
       "2                         2                    1   \n",
       "3                        39                    2   \n",
       "4                       152                   33   \n",
       "\n",
       "   Course activity completion updated  Course user report viewed  ...  \\\n",
       "0                                  58                          0  ...   \n",
       "1                                  69                        208  ...   \n",
       "2                                  69                         36  ...   \n",
       "3                                  57                          1  ...   \n",
       "4                                  85                          9  ...   \n",
       "\n",
       "   Subscription created  Subscription deleted  Group member added  \\\n",
       "0                     0                     0                   0   \n",
       "1                     0                     0                   0   \n",
       "2                     0                     0                   0   \n",
       "3                     0                     0                   0   \n",
       "4                     0                     0                   0   \n",
       "\n",
       "   Choice answer deleted  Grade item updated  Recent activity viewed  \\\n",
       "0                      0                   0                       0   \n",
       "1                      0                   0                       0   \n",
       "2                      0                   0                       0   \n",
       "3                      0                   0                       0   \n",
       "4                      0                   0                       0   \n",
       "\n",
       "   An online text has been uploaded.          type      level  Grades  \n",
       "0                                  0  Quantitative  undergrad     2.3  \n",
       "1                                  0  Quantitative  undergrad     4.0  \n",
       "2                                  0  Quantitative  undergrad     2.7  \n",
       "3                                  0  Quantitative  undergrad     4.0  \n",
       "4                                  0  Quantitative  undergrad     4.0  \n",
       "\n",
       "[5 rows x 65 columns]"
      ]
     },
     "execution_count": 25,
     "metadata": {},
     "output_type": "execute_result"
    }
   ],
   "source": [
    "final.head()"
   ]
  },
  {
   "cell_type": "markdown",
   "metadata": {},
   "source": [
    "# Data Visualization"
   ]
  },
  {
   "cell_type": "code",
   "execution_count": 26,
   "metadata": {},
   "outputs": [],
   "source": [
    "undergrad = final[final.level == 'undergrad']\n",
    "grad = final[final.level == 'grad'] \n",
    "Quantitative = final[final.type == 'Quantitative']\n",
    "Qualitative = final[final.type == 'Qualitative']"
   ]
  },
  {
   "cell_type": "code",
   "execution_count": 27,
   "metadata": {},
   "outputs": [],
   "source": [
    "from matplotlib.pyplot import *"
   ]
  },
  {
   "cell_type": "code",
   "execution_count": 28,
   "metadata": {},
   "outputs": [
    {
     "name": "stdout",
     "output_type": "stream",
     "text": [
      "['Solarize_Light2', '_classic_test_patch', 'bmh', 'classic', 'dark_background', 'fast', 'fivethirtyeight', 'ggplot', 'grayscale', 'seaborn', 'seaborn-bright', 'seaborn-colorblind', 'seaborn-dark', 'seaborn-dark-palette', 'seaborn-darkgrid', 'seaborn-deep', 'seaborn-muted', 'seaborn-notebook', 'seaborn-paper', 'seaborn-pastel', 'seaborn-poster', 'seaborn-talk', 'seaborn-ticks', 'seaborn-white', 'seaborn-whitegrid', 'tableau-colorblind10']\n"
     ]
    }
   ],
   "source": [
    "print (plt.style.available)"
   ]
  },
  {
   "cell_type": "code",
   "execution_count": 29,
   "metadata": {},
   "outputs": [],
   "source": [
    "plt.style.use('ggplot')"
   ]
  },
  {
   "cell_type": "code",
   "execution_count": 30,
   "metadata": {},
   "outputs": [
    {
     "data": {
      "image/png": "[encoded data removed]",
      "text/plain": [
       "<Figure size 1080x576 with 2 Axes>"
      ]
     },
     "metadata": {},
     "output_type": "display_data"
    }
   ],
   "source": [
    "\n",
    "plt.figure(figsize=(15, 8))\n",
    "\n",
    "\n",
    "plt.subplot(2,1,1)\n",
    "plt.suptitle('Comparison between Level and Type',fontsize=16)\n",
    "plt.plot(undergrad.groupby('time_interval',sort = False)['Course viewed'].mean()[:15],marker= 'o')\n",
    "plt.plot(grad.groupby('time_interval',sort = False)['Course viewed'].mean()[:15],marker= 'o')\n",
    "plt.legend(['Undergraduate','Graduate'])\n",
    "plt.title('Undergraduate VS Graduate',fontsize=12)\n",
    "plt.tight_layout()\n",
    "\n",
    "plt.subplot(2,1,2)\n",
    "plt.plot(Quantitative.groupby('time_interval',sort = False)['Course viewed'].mean()[:15],marker= 'o')\n",
    "plt.plot(Qualitative.groupby('time_interval',sort = False)['Course viewed'].mean()[:15],marker= 'o')\n",
    "plt.legend(['Quantitavie','Qualitative'])\n",
    "plt.title(\"Quantitavie VS Qualitative\",fontsize=12)\n",
    "plt.tight_layout()\n",
    "plt.show()"
   ]
  },
  {
   "cell_type": "code",
   "execution_count": 31,
   "metadata": {},
   "outputs": [
    {
     "data": {
      "image/png": "[encoded data removed]",
      "text/plain": [
       "<Figure size 1440x576 with 2 Axes>"
      ]
     },
     "metadata": {},
     "output_type": "display_data"
    }
   ],
   "source": [
    "plt.figure(figsize=(20,8))\n",
    "plt.subplot(1,2,1)\n",
    "sns.boxplot(grad.Grades, grad.groupby('user_id')['Course viewed'].sum())\n",
    "plt.subplot(1,2,2)\n",
    "sns.boxplot(undergrad.Grades, undergrad.groupby('user_id')['Course viewed'].sum())\n",
    "plt.show()"
   ]
  },
  {
   "cell_type": "markdown",
   "metadata": {},
   "source": [
    "# Modeling"
   ]
  },
  {
   "cell_type": "code",
   "execution_count": 32,
   "metadata": {},
   "outputs": [],
   "source": [
    "test = final.copy()"
   ]
  },
  {
   "cell_type": "code",
   "execution_count": 33,
   "metadata": {},
   "outputs": [],
   "source": [
    "for i in test.columns:\n",
    "    if sum(test[i].values == 0) > 0.3*len(test):\n",
    "        test.drop(i,axis=1,inplace = True)"
   ]
  },
  {
   "cell_type": "code",
   "execution_count": 34,
   "metadata": {},
   "outputs": [],
   "source": [
    "test = test.drop(['time_interval','user_id'], 1)"
   ]
  },
  {
   "cell_type": "code",
   "execution_count": 35,
   "metadata": {},
   "outputs": [],
   "source": [
    "test.Grades = np.where(test.Grades < 3, 'Low Performance', 'High Performance')"
   ]
  },
  {
   "cell_type": "code",
   "execution_count": 36,
   "metadata": {},
   "outputs": [],
   "source": [
    "X = pd.get_dummies(test.drop('Grades', axis = 1))\n",
    "Y = test.Grades"
   ]
  },
  {
   "cell_type": "markdown",
   "metadata": {},
   "source": [
    "### PCA"
   ]
  },
  {
   "cell_type": "code",
   "execution_count": 39,
   "metadata": {},
   "outputs": [],
   "source": [
    "from sklearn.decomposition import PCA\n",
    "from sklearn.preprocessing import StandardScaler"
   ]
  },
  {
   "cell_type": "code",
   "execution_count": 40,
   "metadata": {},
   "outputs": [],
   "source": [
    "X_scaled = X"
   ]
  },
  {
   "cell_type": "code",
   "execution_count": 44,
   "metadata": {},
   "outputs": [
    {
     "data": {
      "text/plain": [
       "PCA(copy=True, iterated_power='auto', n_components=5, random_state=None,\n",
       "    svd_solver='auto', tol=0.0, whiten=False)"
      ]
     },
     "execution_count": 44,
     "metadata": {},
     "output_type": "execute_result"
    }
   ],
   "source": [
    "pca = PCA(n_components=5)\n",
    "pca.fit(X_scaled)"
   ]
  },
  {
   "cell_type": "code",
   "execution_count": 45,
   "metadata": {},
   "outputs": [
    {
     "name": "stdout",
     "output_type": "stream",
     "text": [
      "[0.84120077 0.05615661 0.04820768 0.02783423 0.0132229 ]\n"
     ]
    }
   ],
   "source": [
    "print(pca.explained_variance_ratio_)"
   ]
  },
  {
   "cell_type": "code",
   "execution_count": 46,
   "metadata": {},
   "outputs": [
    {
     "name": "stdout",
     "output_type": "stream",
     "text": [
      "0.986622174915376\n"
     ]
    }
   ],
   "source": [
    "print(sum(pca.explained_variance_ratio_))"
   ]
  },
  {
   "cell_type": "code",
   "execution_count": 47,
   "metadata": {},
   "outputs": [
    {
     "name": "stdout",
     "output_type": "stream",
     "text": [
      "[8634.49124343 2230.93725075 2067.0217346  1570.63942451 1082.55556875]\n"
     ]
    }
   ],
   "source": [
    "print(pca.singular_values_)"
   ]
  },
  {
   "cell_type": "code",
   "execution_count": 48,
   "metadata": {},
   "outputs": [],
   "source": [
    "X_pca = pca.fit_transform(X_scaled)\n"
   ]
  },
  {
   "cell_type": "code",
   "execution_count": 49,
   "metadata": {},
   "outputs": [
    {
     "data": {
      "text/plain": [
       "array([[ 677.82303456,   19.25217166, -120.77463794,  108.47535378,\n",
       "           8.69710773],\n",
       "       [ 168.46655501, -210.37776787,  -61.48877774,   30.43553367,\n",
       "         -36.40184944],\n",
       "       [  76.86004431, -156.59634975, -151.28353497,  -92.24318008,\n",
       "          55.55449621],\n",
       "       [ 441.63542631, -155.56463162, -161.32071032,   28.23857146,\n",
       "          29.58613437],\n",
       "       [1646.32889722,  535.02035816, -316.6040328 , -106.24220674,\n",
       "         122.58123996]])"
      ]
     },
     "execution_count": 49,
     "metadata": {},
     "output_type": "execute_result"
    }
   ],
   "source": [
    "X_pca[:5]"
   ]
  },
  {
   "cell_type": "code",
   "execution_count": null,
   "metadata": {},
   "outputs": [],
   "source": []
  },
  {
   "cell_type": "code",
   "execution_count": null,
   "metadata": {},
   "outputs": [],
   "source": []
  },
  {
   "cell_type": "code",
   "execution_count": null,
   "metadata": {},
   "outputs": [],
   "source": []
  },
  {
   "cell_type": "code",
   "execution_count": null,
   "metadata": {},
   "outputs": [],
   "source": []
  },
  {
   "cell_type": "code",
   "execution_count": null,
   "metadata": {},
   "outputs": [],
   "source": []
  },
  {
   "cell_type": "code",
   "execution_count": 50,
   "metadata": {},
   "outputs": [],
   "source": [
    "X_train, X_test, y_train, y_test = train_test_split(X_pca,Y, test_size = 0.2)"
   ]
  },
  {
   "cell_type": "markdown",
   "metadata": {},
   "source": [
    "# Logistic Regression"
   ]
  },
  {
   "cell_type": "code",
   "execution_count": 51,
   "metadata": {},
   "outputs": [],
   "source": [
    "logit = LogisticRegression(max_iter=1e6).fit(X_train,y_train)"
   ]
  },
  {
   "cell_type": "code",
   "execution_count": 52,
   "metadata": {},
   "outputs": [
    {
     "name": "stdout",
     "output_type": "stream",
     "text": [
      "Accuracy Logistic Regression Train: 0.6675824175824175\n",
      "Accuracy Logistic Regression Test: 0.6847826086956522\n"
     ]
    }
   ],
   "source": [
    "print('Accuracy Logistic Regression Train:',logit.score(X_train,y_train))\n",
    "print('Accuracy Logistic Regression Test:',logit.score(X_test,y_test))"
   ]
  },
  {
   "cell_type": "code",
   "execution_count": 53,
   "metadata": {},
   "outputs": [
    {
     "name": "stdout",
     "output_type": "stream",
     "text": [
      "ROC AUC Logistic Regression Train 0.6278661087866109\n",
      "ROC AUC Logistic Regression Test 0.5978494623655914\n"
     ]
    }
   ],
   "source": [
    "Y0_logit = logit.predict_proba(X_train)[:,1]\n",
    "Y1_logit = logit.predict_proba(X_test)[:,1]\n",
    "print(\"ROC AUC Logistic Regression Train\", roc_auc_score(y_train,Y0_logit))\n",
    "print(\"ROC AUC Logistic Regression Test\", roc_auc_score(y_test,Y1_logit))"
   ]
  },
  {
   "cell_type": "code",
   "execution_count": 54,
   "metadata": {},
   "outputs": [
    {
     "name": "stdout",
     "output_type": "stream",
     "text": [
      "Confusion Matrix Logistic Regression Train:\n",
      "                  precision    recall  f1-score   support\n",
      "\n",
      "High Performance       0.67      0.97      0.79       239\n",
      " Low Performance       0.61      0.09      0.15       125\n",
      "\n",
      "        accuracy                           0.67       364\n",
      "       macro avg       0.64      0.53      0.47       364\n",
      "    weighted avg       0.65      0.67      0.57       364\n",
      "\n",
      "Confusion Matrix Logistic Regression Test:\n",
      "                  precision    recall  f1-score   support\n",
      "\n",
      "High Performance       0.69      0.98      0.81        62\n",
      " Low Performance       0.67      0.07      0.12        30\n",
      "\n",
      "        accuracy                           0.68        92\n",
      "       macro avg       0.68      0.53      0.46        92\n",
      "    weighted avg       0.68      0.68      0.58        92\n",
      "\n"
     ]
    }
   ],
   "source": [
    "print(\"Confusion Matrix Logistic Regression Train:\")\n",
    "print(classification_report(y_train,logit.predict(X_train)))\n",
    "\n",
    "print(\"Confusion Matrix Logistic Regression Test:\")\n",
    "print(classification_report(y_test,logit.predict(X_test)))"
   ]
  },
  {
   "cell_type": "markdown",
   "metadata": {},
   "source": [
    "# Random Forest Classifier"
   ]
  },
  {
   "cell_type": "code",
   "execution_count": 55,
   "metadata": {},
   "outputs": [],
   "source": [
    "rf = RandomForestClassifier()"
   ]
  },
  {
   "cell_type": "code",
   "execution_count": 56,
   "metadata": {},
   "outputs": [],
   "source": [
    "param_grid = {\n",
    "    'n_estimators': np.arange(100,1000,100),\n",
    "    'max_features': [.3,.5,.7,9],\n",
    "    'bootstrap': [False, True],\n",
    "    'max_depth':np.arange(1,15,1)\n",
    "}"
   ]
  },
  {
   "cell_type": "code",
   "execution_count": 57,
   "metadata": {},
   "outputs": [
    {
     "name": "stdout",
     "output_type": "stream",
     "text": [
      "Fitting 5 folds for each of 1008 candidates, totalling 5040 fits\n"
     ]
    },
    {
     "name": "stderr",
     "output_type": "stream",
     "text": [
      "[Parallel(n_jobs=-1)]: Using backend LokyBackend with 16 concurrent workers.\n",
      "[Parallel(n_jobs=-1)]: Done  18 tasks      | elapsed:    1.9s\n",
      "[Parallel(n_jobs=-1)]: Done 168 tasks      | elapsed:    8.3s\n",
      "[Parallel(n_jobs=-1)]: Done 418 tasks      | elapsed:   20.6s\n",
      "[Parallel(n_jobs=-1)]: Done 768 tasks      | elapsed:   38.8s\n",
      "[Parallel(n_jobs=-1)]: Done 1218 tasks      | elapsed:  1.1min\n",
      "[Parallel(n_jobs=-1)]: Done 1768 tasks      | elapsed:  1.6min\n",
      "[Parallel(n_jobs=-1)]: Done 2418 tasks      | elapsed:  2.3min\n",
      "[Parallel(n_jobs=-1)]: Done 3168 tasks      | elapsed:  3.1min\n",
      "[Parallel(n_jobs=-1)]: Done 4018 tasks      | elapsed:  4.0min\n",
      "[Parallel(n_jobs=-1)]: Done 4968 tasks      | elapsed:  5.1min\n",
      "[Parallel(n_jobs=-1)]: Done 5040 out of 5040 | elapsed:  5.2min finished\n"
     ]
    }
   ],
   "source": [
    "rf_fit = GridSearchCV(estimator=rf, param_grid=param_grid,\n",
    "      scoring = 'roc_auc',verbose = 1, n_jobs = -1).fit(X_train,y_train)"
   ]
  },
  {
   "cell_type": "code",
   "execution_count": 64,
   "metadata": {},
   "outputs": [],
   "source": [
    "best_params = rf_fit.best_params_"
   ]
  },
  {
   "cell_type": "code",
   "execution_count": 65,
   "metadata": {},
   "outputs": [
    {
     "data": {
      "text/plain": [
       "{'bootstrap': True, 'max_depth': 14, 'max_features': 0.5, 'n_estimators': 100}"
      ]
     },
     "execution_count": 65,
     "metadata": {},
     "output_type": "execute_result"
    }
   ],
   "source": [
    "best_params"
   ]
  },
  {
   "cell_type": "code",
   "execution_count": 83,
   "metadata": {},
   "outputs": [],
   "source": [
    "rf = RandomForestClassifier(n_estimators = best_params['n_estimators'],\n",
    "                            max_features = best_params['max_features'],\n",
    "                            bootstrap = best_params['bootstrap'],\n",
    "                            max_depth = best_params['max_depth']).fit(X_train,y_train)"
   ]
  },
  {
   "cell_type": "code",
   "execution_count": 84,
   "metadata": {},
   "outputs": [
    {
     "name": "stdout",
     "output_type": "stream",
     "text": [
      "Accuracy Train Random Forest: 0.9945054945054945\n",
      "Accuracy Test Random Forest: 0.6956521739130435\n"
     ]
    }
   ],
   "source": [
    "print('Accuracy Train Random Forest:', rf.score(X_train,y_train))\n",
    "print('Accuracy Test Random Forest:', rf.score(X_test,y_test))"
   ]
  },
  {
   "cell_type": "code",
   "execution_count": 85,
   "metadata": {},
   "outputs": [
    {
     "name": "stdout",
     "output_type": "stream",
     "text": [
      "ROC AUC Train Random Forest: 0.6278661087866109\n",
      "ROC AUC Test Random Forest: 0.5978494623655914\n"
     ]
    }
   ],
   "source": [
    "Y0_rf = rf.predict_proba(X_train)[:,1]\n",
    "Y1_rf = rf.predict_proba(X_test)[:,1]\n",
    "print(\"ROC AUC Train Random Forest:\", roc_auc_score(y_train,Y0_logit))\n",
    "print(\"ROC AUC Test Random Forest:\", roc_auc_score(y_test,Y1_logit))"
   ]
  },
  {
   "cell_type": "code",
   "execution_count": 86,
   "metadata": {},
   "outputs": [
    {
     "name": "stdout",
     "output_type": "stream",
     "text": [
      "Confusion Matrix Random Forest Train:\n",
      "                  precision    recall  f1-score   support\n",
      "\n",
      "High Performance       0.99      1.00      1.00       239\n",
      " Low Performance       1.00      0.98      0.99       125\n",
      "\n",
      "        accuracy                           0.99       364\n",
      "       macro avg       1.00      0.99      0.99       364\n",
      "    weighted avg       0.99      0.99      0.99       364\n",
      "\n",
      "Confusion Matrix Random Forest Test:\n",
      "                  precision    recall  f1-score   support\n",
      "\n",
      "High Performance       0.76      0.81      0.78        62\n",
      " Low Performance       0.54      0.47      0.50        30\n",
      "\n",
      "        accuracy                           0.70        92\n",
      "       macro avg       0.65      0.64      0.64        92\n",
      "    weighted avg       0.69      0.70      0.69        92\n",
      "\n"
     ]
    }
   ],
   "source": [
    "print(\"Confusion Matrix Random Forest Train:\")\n",
    "print(classification_report(y_train,rf.predict(X_train)))\n",
    "\n",
    "print(\"Confusion Matrix Random Forest Test:\")\n",
    "print(classification_report(y_test,rf.predict(X_test)))"
   ]
  },
  {
   "cell_type": "code",
   "execution_count": 87,
   "metadata": {},
   "outputs": [],
   "source": [
    "from sklearn.tree import export_graphviz"
   ]
  },
  {
   "cell_type": "code",
   "execution_count": 80,
   "metadata": {},
   "outputs": [],
   "source": [
    "# export_graphviz(rf.estimators_[0], out_file='tree.dot', \n",
    "#                 feature_names = X_train.columns,\n",
    "#                 class_names = y_train,\n",
    "#                 rounded = True, proportion = False, \n",
    "#                 precision = 2, filled = True)"
   ]
  },
  {
   "cell_type": "code",
   "execution_count": 54,
   "metadata": {},
   "outputs": [],
   "source": [
    "from subprocess import call\n",
    "call(['dot', '-Tpng', 'tree.dot', '-o', 'tree.png', '-Gdpi=600'])"
   ]
  },
  {
   "cell_type": "code",
   "execution_count": 55,
   "metadata": {},
   "outputs": [],
   "source": [
    "from IPython.display import Image\n",
    "Image(filename = 'tree.png')"
   ]
  },
  {
   "cell_type": "code",
   "execution_count": null,
   "metadata": {},
   "outputs": [],
   "source": []
  },
  {
   "cell_type": "code",
   "execution_count": null,
   "metadata": {},
   "outputs": [],
   "source": []
  },
  {
   "cell_type": "markdown",
   "metadata": {},
   "source": [
    "# LightGBM Classifier"
   ]
  },
  {
   "cell_type": "code",
   "execution_count": 88,
   "metadata": {},
   "outputs": [],
   "source": [
    "param_grid = {\n",
    "    'num_leaves': np.arange(10,100,20),\n",
    "    'reg_alpha': [0.1, 0.5],\n",
    "    'min_data_in_leaf': np.arange(30,200,20),\n",
    "    'lambda_l1': [0, 1, 1.5],\n",
    "    'lambda_l2': [0, 1],\n",
    "    'learning_rate' : np.linspace(0.1,0.01,5)\n",
    "    }"
   ]
  },
  {
   "cell_type": "code",
   "execution_count": 89,
   "metadata": {},
   "outputs": [],
   "source": [
    "gbm = lgb.LGBMClassifier(boosting_type='gbdt', \n",
    "                         objective='binary',\n",
    "                         num_boost_round=2000, \n",
    "                         metric='auc')"
   ]
  },
  {
   "cell_type": "code",
   "execution_count": 90,
   "metadata": {},
   "outputs": [
    {
     "name": "stdout",
     "output_type": "stream",
     "text": [
      "Fitting 5 folds for each of 2700 candidates, totalling 13500 fits\n"
     ]
    },
    {
     "name": "stderr",
     "output_type": "stream",
     "text": [
      "[Parallel(n_jobs=-1)]: Using backend LokyBackend with 16 concurrent workers.\n",
      "[Parallel(n_jobs=-1)]: Done  18 tasks      | elapsed:    1.2s\n",
      "[Parallel(n_jobs=-1)]: Done 168 tasks      | elapsed:    4.3s\n",
      "[Parallel(n_jobs=-1)]: Done 552 tasks      | elapsed:    9.9s\n",
      "[Parallel(n_jobs=-1)]: Done 1168 tasks      | elapsed:   18.8s\n",
      "[Parallel(n_jobs=-1)]: Done 1949 tasks      | elapsed:   31.2s\n",
      "[Parallel(n_jobs=-1)]: Done 2860 tasks      | elapsed:   45.1s\n",
      "[Parallel(n_jobs=-1)]: Done 3890 tasks      | elapsed:  1.0min\n",
      "[Parallel(n_jobs=-1)]: Done 5760 tasks      | elapsed:  1.4min\n",
      "[Parallel(n_jobs=-1)]: Done 7752 tasks      | elapsed:  1.8min\n",
      "[Parallel(n_jobs=-1)]: Done 10160 tasks      | elapsed:  2.2min\n",
      "[Parallel(n_jobs=-1)]: Done 13064 tasks      | elapsed:  2.8min\n",
      "[Parallel(n_jobs=-1)]: Done 13500 out of 13500 | elapsed:  2.9min finished\n",
      "/Users/gevorgatanesyan/opt/anaconda3/lib/python3.7/site-packages/lightgbm/engine.py:148: UserWarning: Found `num_boost_round` in params. Will use it instead of argument\n",
      "  warnings.warn(\"Found `{}` in params. Will use it instead of argument\".format(alias))\n"
     ]
    }
   ],
   "source": [
    "rf_fit = GridSearchCV(estimator=gbm, param_grid=param_grid,\n",
    "      scoring = 'roc_auc',verbose = 1, n_jobs = -1).fit(X_train,y_train)"
   ]
  },
  {
   "cell_type": "code",
   "execution_count": 91,
   "metadata": {},
   "outputs": [],
   "source": [
    "best_params = rf_fit.best_params_"
   ]
  },
  {
   "cell_type": "code",
   "execution_count": 92,
   "metadata": {},
   "outputs": [
    {
     "data": {
      "text/plain": [
       "{'lambda_l1': 1.5,\n",
       " 'lambda_l2': 0,\n",
       " 'learning_rate': 0.01,\n",
       " 'min_data_in_leaf': 50,\n",
       " 'num_leaves': 10,\n",
       " 'reg_alpha': 0.1}"
      ]
     },
     "execution_count": 92,
     "metadata": {},
     "output_type": "execute_result"
    }
   ],
   "source": [
    "best_params"
   ]
  },
  {
   "cell_type": "code",
   "execution_count": 93,
   "metadata": {},
   "outputs": [
    {
     "name": "stderr",
     "output_type": "stream",
     "text": [
      "/Users/gevorgatanesyan/opt/anaconda3/lib/python3.7/site-packages/lightgbm/engine.py:148: UserWarning: Found `num_boost_round` in params. Will use it instead of argument\n",
      "  warnings.warn(\"Found `{}` in params. Will use it instead of argument\".format(alias))\n"
     ]
    }
   ],
   "source": [
    "gbm = lgb.LGBMClassifier(boosting_type='gbdt', \n",
    "                         objective='binary',\n",
    "                         num_boost_round=2000, \n",
    "                         metric='auc',\n",
    "                         lambda_l1 = 1.5,\n",
    "                         lambda_l2 = 0,\n",
    "                         learning_rate=0.01,\n",
    "                         min_data_in_leaf = 50,\n",
    "                         num_leaves=10,\n",
    "                         reg_alpha=0.1).fit(X_train,y_train)"
   ]
  },
  {
   "cell_type": "code",
   "execution_count": 94,
   "metadata": {},
   "outputs": [
    {
     "name": "stdout",
     "output_type": "stream",
     "text": [
      "0.8461538461538461\n",
      "0.75\n"
     ]
    }
   ],
   "source": [
    "print(gbm.score(X_train,y_train))\n",
    "print(gbm.score(X_test,y_test))"
   ]
  },
  {
   "cell_type": "code",
   "execution_count": 95,
   "metadata": {},
   "outputs": [
    {
     "name": "stdout",
     "output_type": "stream",
     "text": [
      "ROC AUC LightGBM Train 0.94\n",
      "ROC AUC LightGBM Test 0.7446236559139785\n"
     ]
    }
   ],
   "source": [
    "Y0_gbm = gbm.predict_proba(X_train)[:,1]\n",
    "Y1_gbm = gbm.predict_proba(X_test)[:,1]\n",
    "print(\"ROC AUC LightGBM Train\", roc_auc_score(y_train,Y0_gbm))\n",
    "print(\"ROC AUC LightGBM Test\", roc_auc_score(y_test,Y1_gbm))"
   ]
  },
  {
   "cell_type": "code",
   "execution_count": 96,
   "metadata": {},
   "outputs": [
    {
     "name": "stdout",
     "output_type": "stream",
     "text": [
      "Confusion Matrix LoghtGBM Train:\n",
      "                  precision    recall  f1-score   support\n",
      "\n",
      "High Performance       0.85      0.93      0.89       239\n",
      " Low Performance       0.83      0.69      0.75       125\n",
      "\n",
      "        accuracy                           0.85       364\n",
      "       macro avg       0.84      0.81      0.82       364\n",
      "    weighted avg       0.85      0.85      0.84       364\n",
      "\n",
      "Confusion Matrix LoghtGBM Test:\n",
      "                  precision    recall  f1-score   support\n",
      "\n",
      "High Performance       0.77      0.90      0.83        62\n",
      " Low Performance       0.68      0.43      0.53        30\n",
      "\n",
      "        accuracy                           0.75        92\n",
      "       macro avg       0.73      0.67      0.68        92\n",
      "    weighted avg       0.74      0.75      0.73        92\n",
      "\n"
     ]
    }
   ],
   "source": [
    "print(\"Confusion Matrix LoghtGBM Train:\")\n",
    "print(classification_report(y_train,gbm.predict(X_train)))\n",
    "\n",
    "print(\"Confusion Matrix LoghtGBM Test:\")\n",
    "print(classification_report(y_test,gbm.predict(X_test)))"
   ]
  },
  {
   "cell_type": "code",
   "execution_count": 115,
   "metadata": {},
   "outputs": [
    {
     "data": {
      "text/plain": [
       "<AxesSubplot:>"
      ]
     },
     "execution_count": 115,
     "metadata": {},
     "output_type": "execute_result"
    },
    {
     "data": {
      "image/png": "[encoded data removed]",
      "text/plain": [
       "<Figure size 1440x1440 with 1 Axes>"
      ]
     },
     "metadata": {},
     "output_type": "display_data"
    }
   ],
   "source": [
    "lgb.plot_tree(gbm,figsize = (20,20))"
   ]
  },
  {
   "cell_type": "code",
   "execution_count": null,
   "metadata": {},
   "outputs": [],
   "source": []
  },
  {
   "cell_type": "markdown",
   "metadata": {},
   "source": [
    "# Multilayer Perceptron"
   ]
  },
  {
   "cell_type": "code",
   "execution_count": 98,
   "metadata": {},
   "outputs": [],
   "source": [
    "mlp = MLPClassifier(hidden_layer_sizes=16,max_iter=10000).fit(X_train,y_train)"
   ]
  },
  {
   "cell_type": "code",
   "execution_count": 99,
   "metadata": {},
   "outputs": [
    {
     "name": "stdout",
     "output_type": "stream",
     "text": [
      "0.7527472527472527\n",
      "0.7391304347826086\n"
     ]
    }
   ],
   "source": [
    "print(mlp.score(X_train,y_train))\n",
    "print(mlp.score(X_test,y_test))"
   ]
  },
  {
   "cell_type": "code",
   "execution_count": 100,
   "metadata": {},
   "outputs": [
    {
     "name": "stdout",
     "output_type": "stream",
     "text": [
      "ROC AUC train 0.7874979079497908\n",
      "ROC AUC test 0.6709677419354838\n"
     ]
    }
   ],
   "source": [
    "Y0_mpl = mlp.predict_proba(X_train)[:,1]\n",
    "Y1_mpl = mlp.predict_proba(X_test)[:,1]\n",
    "print(\"ROC AUC train\", roc_auc_score(y_train,Y0_mpl))\n",
    "print(\"ROC AUC test\", roc_auc_score(y_test,Y1_mpl))"
   ]
  },
  {
   "cell_type": "code",
   "execution_count": 101,
   "metadata": {},
   "outputs": [
    {
     "name": "stdout",
     "output_type": "stream",
     "text": [
      "MLP Train:\n",
      "                  precision    recall  f1-score   support\n",
      "\n",
      "High Performance       0.76      0.92      0.83       239\n",
      " Low Performance       0.74      0.43      0.55       125\n",
      "\n",
      "        accuracy                           0.75       364\n",
      "       macro avg       0.75      0.68      0.69       364\n",
      "    weighted avg       0.75      0.75      0.73       364\n",
      "\n",
      "MLP Test:\n",
      "                  precision    recall  f1-score   support\n",
      "\n",
      "High Performance       0.76      0.89      0.82        62\n",
      " Low Performance       0.65      0.43      0.52        30\n",
      "\n",
      "        accuracy                           0.74        92\n",
      "       macro avg       0.71      0.66      0.67        92\n",
      "    weighted avg       0.73      0.74      0.72        92\n",
      "\n"
     ]
    }
   ],
   "source": [
    "print(\"MLP Train:\")\n",
    "print(classification_report(y_train,mlp.predict(X_train)))\n",
    "\n",
    "print(\"MLP Test:\")\n",
    "print(classification_report(y_test,mlp.predict(X_test)))"
   ]
  },
  {
   "cell_type": "markdown",
   "metadata": {},
   "source": [
    "# Function"
   ]
  },
  {
   "cell_type": "code",
   "execution_count": 102,
   "metadata": {},
   "outputs": [],
   "source": [
    "def run_models(model_obj, model_name, model_param_dict, X_train,y_train):\n",
    "    mdl = model_obj(**model_param_dict[model_name]).fit(X_train,y_train)\n",
    "    \n",
    "    train_score = mdl.score(X_train,y_train)\n",
    "    test_score = mdl.score(X_test,y_test)\n",
    "    \n",
    "    Y0_mdl = logit.predict_proba(X_train)[:,1]\n",
    "    Y1_mdl = logit.predict_proba(X_test)[:,1]\n",
    "    roc_auc_0, roc_auc_1 = roc_auc_score(y_train,Y0_mdl), roc_auc_score(y_test,Y1_mdl)\n",
    "    \n",
    "    class_report_train = classification_report(y_train,mdl.predict(X_train))\n",
    "    class_report_test = classification_report(y_test,mdl.predict(X_test))\n",
    "    \n",
    "    print(f'{model_name} Performance \\n')\n",
    "    print('Train Score', train_score)\n",
    "    print('Test Score', test_score)\n",
    "    print(class_report_train)\n",
    "    print(class_report_test)\n",
    "    \n",
    "    \n"
   ]
  },
  {
   "cell_type": "code",
   "execution_count": 103,
   "metadata": {},
   "outputs": [
    {
     "data": {
      "text/plain": [
       "DecisionTreeClassifier(ccp_alpha=0.0, class_weight=None, criterion='gini',\n",
       "                       max_depth=None, max_features=None, max_leaf_nodes=None,\n",
       "                       min_impurity_decrease=0.0, min_impurity_split=None,\n",
       "                       min_samples_leaf=1, min_samples_split=2,\n",
       "                       min_weight_fraction_leaf=0.0, presort='deprecated',\n",
       "                       random_state=None, splitter='best')"
      ]
     },
     "execution_count": 103,
     "metadata": {},
     "output_type": "execute_result"
    }
   ],
   "source": [
    "rf.base_estimator"
   ]
  },
  {
   "cell_type": "code",
   "execution_count": 104,
   "metadata": {},
   "outputs": [],
   "source": [
    "model_param_dict  = {\n",
    "    'MLPClassifier': {\n",
    "        'hidden_layer_sizes': 16,\n",
    "        'max_iter': 10000\n",
    "    },\n",
    "    'LogisticRegression': {\n",
    "        'max_iter': 1e6\n",
    "    },\n",
    "    'LGBMClassifier': {\n",
    "        \"boosting_type\":'gbdt', \n",
    "         \"objective\": 'binary',\n",
    "         \"num_boost_round\":2000, \n",
    "         \"metric\": 'auc',\n",
    "         \"lambda_l1\" : 0.1,\n",
    "         \"lambda_l2\" : 0.1,\n",
    "         \"learning_rate\":0.01,\n",
    "         \"min_data_in_leaf\" : 140,\n",
    "         \"num_leaves\":10,\n",
    "         \"reg_alpha\":0.1\n",
    "    },\n",
    "    'RandomForestClassifier': {\n",
    "        'bootstrap': True, \n",
    "        'max_depth': 4, \n",
    "        'max_features': 0.3, \n",
    "        'n_estimators': 100\n",
    "    }\n",
    "    \n",
    "}"
   ]
  },
  {
   "cell_type": "code",
   "execution_count": 105,
   "metadata": {},
   "outputs": [],
   "source": [
    "from lightgbm import LGBMClassifier"
   ]
  },
  {
   "cell_type": "code",
   "execution_count": 106,
   "metadata": {},
   "outputs": [
    {
     "name": "stdout",
     "output_type": "stream",
     "text": [
      "RandomForestClassifier Performance \n",
      "\n",
      "Train Score 0.8021978021978022\n",
      "Test Score 0.75\n",
      "                  precision    recall  f1-score   support\n",
      "\n",
      "High Performance       0.78      0.96      0.86       239\n",
      " Low Performance       0.87      0.50      0.63       125\n",
      "\n",
      "        accuracy                           0.80       364\n",
      "       macro avg       0.83      0.73      0.75       364\n",
      "    weighted avg       0.82      0.80      0.78       364\n",
      "\n",
      "                  precision    recall  f1-score   support\n",
      "\n",
      "High Performance       0.75      0.94      0.83        62\n",
      " Low Performance       0.73      0.37      0.49        30\n",
      "\n",
      "        accuracy                           0.75        92\n",
      "       macro avg       0.74      0.65      0.66        92\n",
      "    weighted avg       0.75      0.75      0.72        92\n",
      "\n"
     ]
    }
   ],
   "source": [
    "run_models(RandomForestClassifier, 'RandomForestClassifier', model_param_dict, X_train,y_train)"
   ]
  },
  {
   "cell_type": "markdown",
   "metadata": {},
   "source": [
    "# Kmeans"
   ]
  },
  {
   "cell_type": "code",
   "execution_count": 107,
   "metadata": {},
   "outputs": [],
   "source": [
    "cluster = KMeans(2, random_state=42).fit_predict(X)"
   ]
  },
  {
   "cell_type": "code",
   "execution_count": 108,
   "metadata": {},
   "outputs": [
    {
     "data": {
      "text/plain": [
       "array([1, 0, 0, 1, 1, 1, 1, 0, 0, 1, 0, 1, 1, 1, 0, 1, 1, 1, 0, 1, 0, 1,\n",
       "       1, 1, 1, 1, 1, 0, 1, 1, 0, 1, 1, 1, 0, 1, 1, 0, 1, 1, 0, 0, 1, 1,\n",
       "       1, 1, 1, 0, 1, 1, 0, 1, 1, 1, 0, 0, 1, 0, 1, 0, 0, 0, 1, 0, 0, 0,\n",
       "       1, 1, 1, 1, 1, 0, 1, 0, 0, 0, 0, 1, 1, 0, 1, 0, 1, 1, 0, 0, 1, 0,\n",
       "       1, 0, 0, 0, 1, 0, 1, 0, 0, 0, 0, 0, 1, 1, 1, 0, 1, 0, 0, 1, 1, 0,\n",
       "       0, 0, 0, 0, 1, 1, 1, 1, 1, 1, 0, 1, 1, 1, 1, 0, 0, 0, 0, 0, 0, 1,\n",
       "       0, 1, 0, 0, 0, 1, 1, 1, 1, 0, 1, 0, 0, 1, 0, 0, 1, 0, 1, 0, 0, 1,\n",
       "       1, 0, 1, 0, 1, 0, 0, 0, 0, 0, 1, 0, 0, 0, 1, 0, 0, 1, 0, 0, 0, 0,\n",
       "       0, 1, 0, 0, 0, 0, 1, 0, 1, 1, 1, 0, 0, 0, 0, 0, 0, 1, 0, 0, 0, 0,\n",
       "       0, 0, 0, 0, 1, 1, 1, 0, 0, 0, 0, 0, 1, 0, 0, 0, 0, 0, 0, 1, 0, 0,\n",
       "       0, 0, 1, 0, 0, 0, 0, 0, 0, 0, 0, 0, 0, 0, 0, 0, 0, 1, 0, 0, 0, 0,\n",
       "       0, 0, 0, 0, 0, 1, 0, 0, 0, 0, 1, 0, 0, 0, 0, 0, 0, 0, 0, 0, 0, 0,\n",
       "       0, 0, 0, 1, 0, 0, 0, 0, 0, 0, 0, 0, 0, 0, 0, 0, 0, 0, 0, 0, 0, 0,\n",
       "       0, 0, 0, 0, 0, 0, 0, 0, 0, 0, 0, 0, 0, 0, 0, 0, 0, 0, 0, 0, 0, 0,\n",
       "       0, 0, 0, 0, 0, 0, 0, 0, 0, 0, 0, 0, 0, 0, 0, 0, 0, 0, 0, 0, 0, 0,\n",
       "       0, 0, 0, 0, 0, 0, 0, 0, 0, 0, 0, 0, 0, 0, 0, 0, 0, 0, 0, 0, 0, 0,\n",
       "       0, 0, 0, 0, 0, 0, 0, 0, 0, 0, 0, 0, 0, 0, 0, 0, 0, 0, 0, 0, 0, 0,\n",
       "       0, 0, 0, 0, 0, 0, 0, 0, 0, 0, 0, 0, 0, 0, 0, 0, 0, 0, 0, 0, 0, 0,\n",
       "       0, 0, 0, 0, 0, 0, 0, 0, 0, 0, 0, 0, 0, 0, 0, 0, 1, 0, 0, 0, 0, 0,\n",
       "       0, 0, 0, 0, 0, 0, 0, 0, 0, 0, 0, 0, 0, 0, 0, 0, 0, 0, 0, 0, 0, 0,\n",
       "       0, 0, 0, 0, 0, 0, 0, 0, 0, 0, 0, 0, 0, 0, 0, 0], dtype=int32)"
      ]
     },
     "execution_count": 108,
     "metadata": {},
     "output_type": "execute_result"
    }
   ],
   "source": [
    "cluster"
   ]
  },
  {
   "cell_type": "code",
   "execution_count": 109,
   "metadata": {},
   "outputs": [
    {
     "name": "stdout",
     "output_type": "stream",
     "text": [
      "              precision    recall  f1-score   support\n",
      "\n",
      "           0       0.61      0.71      0.66       301\n",
      "           1       0.19      0.13      0.15       155\n",
      "\n",
      "    accuracy                           0.52       456\n",
      "   macro avg       0.40      0.42      0.41       456\n",
      "weighted avg       0.47      0.52      0.49       456\n",
      "\n"
     ]
    }
   ],
   "source": [
    "print(classification_report(np.where(Y == 'Low Performance',1,0), cluster))"
   ]
  },
  {
   "cell_type": "code",
   "execution_count": 111,
   "metadata": {},
   "outputs": [],
   "source": [
    "# print(classification_report(np.where(y_train == 'Low Performance',1,0), cluster))"
   ]
  },
  {
   "cell_type": "code",
   "execution_count": 112,
   "metadata": {},
   "outputs": [],
   "source": [
    "# Train = test.iloc[:,1:]"
   ]
  },
  {
   "cell_type": "code",
   "execution_count": 113,
   "metadata": {},
   "outputs": [],
   "source": [
    "# Train = pd.get_dummies(Train, drop_first=True)"
   ]
  },
  {
   "cell_type": "code",
   "execution_count": 114,
   "metadata": {},
   "outputs": [],
   "source": [
    "# test['cluster'] = cluster.fit_predict(Train)"
   ]
  },
  {
   "cell_type": "code",
   "execution_count": 162,
   "metadata": {},
   "outputs": [
    {
     "data": {
      "text/html": [
       "<div>\n",
       "<style scoped>\n",
       "    .dataframe tbody tr th:only-of-type {\n",
       "        vertical-align: middle;\n",
       "    }\n",
       "\n",
       "    .dataframe tbody tr th {\n",
       "        vertical-align: top;\n",
       "    }\n",
       "\n",
       "    .dataframe thead th {\n",
       "        text-align: right;\n",
       "    }\n",
       "</style>\n",
       "<table border=\"1\" class=\"dataframe\">\n",
       "  <thead>\n",
       "    <tr style=\"text-align: right;\">\n",
       "      <th></th>\n",
       "      <th>The status of the submission has been viewed.</th>\n",
       "      <th>Course module viewed</th>\n",
       "      <th>Feedback viewed</th>\n",
       "      <th>Course viewed</th>\n",
       "      <th>Grade user report viewed</th>\n",
       "      <th>Course activity completion updated</th>\n",
       "      <th>A submission has been submitted.</th>\n",
       "      <th>Submission created.</th>\n",
       "      <th>A file has been uploaded.</th>\n",
       "      <th>Submission form viewed.</th>\n",
       "      <th>...</th>\n",
       "      <th>Quiz attempt submitted</th>\n",
       "      <th>Quiz attempt viewed</th>\n",
       "      <th>User graded</th>\n",
       "      <th>Quiz attempt summary viewed</th>\n",
       "      <th>Quiz attempt started</th>\n",
       "      <th>type</th>\n",
       "      <th>level</th>\n",
       "      <th>Grades</th>\n",
       "      <th>cluster</th>\n",
       "      <th>cluster_new</th>\n",
       "    </tr>\n",
       "  </thead>\n",
       "  <tbody>\n",
       "    <tr>\n",
       "      <th>0</th>\n",
       "      <td>312</td>\n",
       "      <td>869</td>\n",
       "      <td>110</td>\n",
       "      <td>805</td>\n",
       "      <td>89</td>\n",
       "      <td>58</td>\n",
       "      <td>23</td>\n",
       "      <td>22</td>\n",
       "      <td>23</td>\n",
       "      <td>0</td>\n",
       "      <td>...</td>\n",
       "      <td>6</td>\n",
       "      <td>201</td>\n",
       "      <td>4</td>\n",
       "      <td>6</td>\n",
       "      <td>8</td>\n",
       "      <td>Quantitative</td>\n",
       "      <td>undergrad</td>\n",
       "      <td>Low Performance</td>\n",
       "      <td>1</td>\n",
       "      <td>2</td>\n",
       "    </tr>\n",
       "    <tr>\n",
       "      <th>1</th>\n",
       "      <td>190</td>\n",
       "      <td>608</td>\n",
       "      <td>32</td>\n",
       "      <td>332</td>\n",
       "      <td>7</td>\n",
       "      <td>69</td>\n",
       "      <td>29</td>\n",
       "      <td>26</td>\n",
       "      <td>29</td>\n",
       "      <td>30</td>\n",
       "      <td>...</td>\n",
       "      <td>6</td>\n",
       "      <td>302</td>\n",
       "      <td>6</td>\n",
       "      <td>4</td>\n",
       "      <td>7</td>\n",
       "      <td>Quantitative</td>\n",
       "      <td>undergrad</td>\n",
       "      <td>High Performance</td>\n",
       "      <td>0</td>\n",
       "      <td>0</td>\n",
       "    </tr>\n",
       "    <tr>\n",
       "      <th>2</th>\n",
       "      <td>257</td>\n",
       "      <td>416</td>\n",
       "      <td>75</td>\n",
       "      <td>353</td>\n",
       "      <td>2</td>\n",
       "      <td>69</td>\n",
       "      <td>27</td>\n",
       "      <td>23</td>\n",
       "      <td>27</td>\n",
       "      <td>37</td>\n",
       "      <td>...</td>\n",
       "      <td>7</td>\n",
       "      <td>330</td>\n",
       "      <td>5</td>\n",
       "      <td>5</td>\n",
       "      <td>9</td>\n",
       "      <td>Quantitative</td>\n",
       "      <td>undergrad</td>\n",
       "      <td>Low Performance</td>\n",
       "      <td>0</td>\n",
       "      <td>7</td>\n",
       "    </tr>\n",
       "    <tr>\n",
       "      <th>3</th>\n",
       "      <td>331</td>\n",
       "      <td>725</td>\n",
       "      <td>113</td>\n",
       "      <td>564</td>\n",
       "      <td>39</td>\n",
       "      <td>57</td>\n",
       "      <td>32</td>\n",
       "      <td>29</td>\n",
       "      <td>32</td>\n",
       "      <td>37</td>\n",
       "      <td>...</td>\n",
       "      <td>7</td>\n",
       "      <td>319</td>\n",
       "      <td>7</td>\n",
       "      <td>6</td>\n",
       "      <td>8</td>\n",
       "      <td>Quantitative</td>\n",
       "      <td>undergrad</td>\n",
       "      <td>High Performance</td>\n",
       "      <td>1</td>\n",
       "      <td>4</td>\n",
       "    </tr>\n",
       "    <tr>\n",
       "      <th>4</th>\n",
       "      <td>544</td>\n",
       "      <td>1114</td>\n",
       "      <td>179</td>\n",
       "      <td>1890</td>\n",
       "      <td>152</td>\n",
       "      <td>85</td>\n",
       "      <td>36</td>\n",
       "      <td>28</td>\n",
       "      <td>36</td>\n",
       "      <td>44</td>\n",
       "      <td>...</td>\n",
       "      <td>6</td>\n",
       "      <td>223</td>\n",
       "      <td>4</td>\n",
       "      <td>6</td>\n",
       "      <td>8</td>\n",
       "      <td>Quantitative</td>\n",
       "      <td>undergrad</td>\n",
       "      <td>High Performance</td>\n",
       "      <td>1</td>\n",
       "      <td>5</td>\n",
       "    </tr>\n",
       "  </tbody>\n",
       "</table>\n",
       "<p>5 rows × 22 columns</p>\n",
       "</div>"
      ],
      "text/plain": [
       "   The status of the submission has been viewed.  Course module viewed  \\\n",
       "0                                            312                   869   \n",
       "1                                            190                   608   \n",
       "2                                            257                   416   \n",
       "3                                            331                   725   \n",
       "4                                            544                  1114   \n",
       "\n",
       "   Feedback viewed  Course viewed  Grade user report viewed  \\\n",
       "0              110            805                        89   \n",
       "1               32            332                         7   \n",
       "2               75            353                         2   \n",
       "3              113            564                        39   \n",
       "4              179           1890                       152   \n",
       "\n",
       "   Course activity completion updated  A submission has been submitted.  \\\n",
       "0                                  58                                23   \n",
       "1                                  69                                29   \n",
       "2                                  69                                27   \n",
       "3                                  57                                32   \n",
       "4                                  85                                36   \n",
       "\n",
       "   Submission created.  A file has been uploaded.  Submission form viewed.  \\\n",
       "0                   22                         23                        0   \n",
       "1                   26                         29                       30   \n",
       "2                   23                         27                       37   \n",
       "3                   29                         32                       37   \n",
       "4                   28                         36                       44   \n",
       "\n",
       "   ...  Quiz attempt submitted  Quiz attempt viewed  User graded  \\\n",
       "0  ...                       6                  201            4   \n",
       "1  ...                       6                  302            6   \n",
       "2  ...                       7                  330            5   \n",
       "3  ...                       7                  319            7   \n",
       "4  ...                       6                  223            4   \n",
       "\n",
       "   Quiz attempt summary viewed  Quiz attempt started          type      level  \\\n",
       "0                            6                     8  Quantitative  undergrad   \n",
       "1                            4                     7  Quantitative  undergrad   \n",
       "2                            5                     9  Quantitative  undergrad   \n",
       "3                            6                     8  Quantitative  undergrad   \n",
       "4                            6                     8  Quantitative  undergrad   \n",
       "\n",
       "             Grades cluster cluster_new  \n",
       "0   Low Performance       1           2  \n",
       "1  High Performance       0           0  \n",
       "2   Low Performance       0           7  \n",
       "3  High Performance       1           4  \n",
       "4  High Performance       1           5  \n",
       "\n",
       "[5 rows x 22 columns]"
      ]
     },
     "execution_count": 162,
     "metadata": {},
     "output_type": "execute_result"
    }
   ],
   "source": [
    "test.head()"
   ]
  },
  {
   "cell_type": "code",
   "execution_count": 147,
   "metadata": {},
   "outputs": [],
   "source": [
    "sse = {}\n",
    "for k in range(2,10):\n",
    "    cluster = KMeans(n_clusters=k, random_state=42)\n",
    "    test['cluster_new'] = cluster.fit_predict(Train)\n",
    "    sse[k] = cluster.inertia_"
   ]
  },
  {
   "cell_type": "code",
   "execution_count": 148,
   "metadata": {},
   "outputs": [
    {
     "data": {
      "text/plain": [
       "{2: 36660815.64775966,\n",
       " 3: 23048534.740062375,\n",
       " 4: 16966755.702908855,\n",
       " 5: 14746809.231315844,\n",
       " 6: 13187952.949786333,\n",
       " 7: 12252948.073787529,\n",
       " 8: 11633250.244179823,\n",
       " 9: 10716506.716712987}"
      ]
     },
     "execution_count": 148,
     "metadata": {},
     "output_type": "execute_result"
    }
   ],
   "source": [
    "sse"
   ]
  },
  {
   "cell_type": "code",
   "execution_count": 149,
   "metadata": {},
   "outputs": [
    {
     "data": {
      "text/plain": [
       "Text(0, 0.5, 'SSE')"
      ]
     },
     "execution_count": 149,
     "metadata": {},
     "output_type": "execute_result"
    },
    {
     "data": {
      "image/png": "[encoded data removed]",
      "text/plain": [
       "<Figure size 720x576 with 1 Axes>"
      ]
     },
     "metadata": {},
     "output_type": "display_data"
    }
   ],
   "source": [
    "plt.figure(figsize=(10,8))\n",
    "plt.plot(list(sse.keys()),list(sse.values()),marker = 'o')\n",
    "plt.xlabel('Number of clusters')\n",
    "plt.ylabel('SSE')"
   ]
  },
  {
   "cell_type": "code",
   "execution_count": 153,
   "metadata": {},
   "outputs": [],
   "source": [
    "silh_coef = {}\n",
    "sse = {}\n",
    "for k in range(2,10):\n",
    "    cluster = KMeans(n_clusters=k, random_state=42)\n",
    "    test['cluster_new'] = cluster.fit_predict(Train)\n",
    "    silh_coef[k] = silhouette_score(Train,cluster.labels_,metric = 'euclidean')"
   ]
  },
  {
   "cell_type": "code",
   "execution_count": 155,
   "metadata": {},
   "outputs": [
    {
     "data": {
      "text/plain": [
       "{2: 0.5682947097438025,\n",
       " 3: 0.4805646178564251,\n",
       " 4: 0.42633855949875976,\n",
       " 5: 0.32277298926318054,\n",
       " 6: 0.3166782612249707,\n",
       " 7: 0.2682559359854458,\n",
       " 8: 0.30122563177070677,\n",
       " 9: 0.25727531801534903}"
      ]
     },
     "execution_count": 155,
     "metadata": {},
     "output_type": "execute_result"
    }
   ],
   "source": [
    "silh_coef"
   ]
  },
  {
   "cell_type": "code",
   "execution_count": 154,
   "metadata": {},
   "outputs": [
    {
     "data": {
      "text/plain": [
       "Text(0, 0.5, 'silhoute score')"
      ]
     },
     "execution_count": 154,
     "metadata": {},
     "output_type": "execute_result"
    },
    {
     "data": {
      "image/png": "[encoded data removed]",
      "text/plain": [
       "<Figure size 720x576 with 1 Axes>"
      ]
     },
     "metadata": {},
     "output_type": "display_data"
    }
   ],
   "source": [
    "plt.figure(figsize=(10,8))\n",
    "plt.plot(list(silh_coef.keys()),list(silh_coef.values()),marker = 'o')\n",
    "plt.xlabel('Number of clusters')\n",
    "plt.ylabel('silhoute score')"
   ]
  },
  {
   "cell_type": "code",
   "execution_count": 157,
   "metadata": {},
   "outputs": [
    {
     "data": {
      "text/html": [
       "<div>\n",
       "<style scoped>\n",
       "    .dataframe tbody tr th:only-of-type {\n",
       "        vertical-align: middle;\n",
       "    }\n",
       "\n",
       "    .dataframe tbody tr th {\n",
       "        vertical-align: top;\n",
       "    }\n",
       "\n",
       "    .dataframe thead th {\n",
       "        text-align: right;\n",
       "    }\n",
       "</style>\n",
       "<table border=\"1\" class=\"dataframe\">\n",
       "  <thead>\n",
       "    <tr style=\"text-align: right;\">\n",
       "      <th></th>\n",
       "      <th>The status of the submission has been viewed.</th>\n",
       "      <th>Course module viewed</th>\n",
       "      <th>Feedback viewed</th>\n",
       "      <th>Course viewed</th>\n",
       "      <th>Grade user report viewed</th>\n",
       "      <th>Course activity completion updated</th>\n",
       "      <th>A submission has been submitted.</th>\n",
       "      <th>Submission created.</th>\n",
       "      <th>A file has been uploaded.</th>\n",
       "      <th>Submission form viewed.</th>\n",
       "      <th>...</th>\n",
       "      <th>Quiz attempt submitted</th>\n",
       "      <th>Quiz attempt viewed</th>\n",
       "      <th>User graded</th>\n",
       "      <th>Quiz attempt summary viewed</th>\n",
       "      <th>Quiz attempt started</th>\n",
       "      <th>type</th>\n",
       "      <th>level</th>\n",
       "      <th>Grades</th>\n",
       "      <th>cluster</th>\n",
       "      <th>cluster_new</th>\n",
       "    </tr>\n",
       "  </thead>\n",
       "  <tbody>\n",
       "    <tr>\n",
       "      <th>0</th>\n",
       "      <td>312</td>\n",
       "      <td>869</td>\n",
       "      <td>110</td>\n",
       "      <td>805</td>\n",
       "      <td>89</td>\n",
       "      <td>58</td>\n",
       "      <td>23</td>\n",
       "      <td>22</td>\n",
       "      <td>23</td>\n",
       "      <td>0</td>\n",
       "      <td>...</td>\n",
       "      <td>6</td>\n",
       "      <td>201</td>\n",
       "      <td>4</td>\n",
       "      <td>6</td>\n",
       "      <td>8</td>\n",
       "      <td>Quantitative</td>\n",
       "      <td>undergrad</td>\n",
       "      <td>Low Performance</td>\n",
       "      <td>3</td>\n",
       "      <td>2</td>\n",
       "    </tr>\n",
       "    <tr>\n",
       "      <th>1</th>\n",
       "      <td>190</td>\n",
       "      <td>608</td>\n",
       "      <td>32</td>\n",
       "      <td>332</td>\n",
       "      <td>7</td>\n",
       "      <td>69</td>\n",
       "      <td>29</td>\n",
       "      <td>26</td>\n",
       "      <td>29</td>\n",
       "      <td>30</td>\n",
       "      <td>...</td>\n",
       "      <td>6</td>\n",
       "      <td>302</td>\n",
       "      <td>6</td>\n",
       "      <td>4</td>\n",
       "      <td>7</td>\n",
       "      <td>Quantitative</td>\n",
       "      <td>undergrad</td>\n",
       "      <td>High Performance</td>\n",
       "      <td>0</td>\n",
       "      <td>0</td>\n",
       "    </tr>\n",
       "    <tr>\n",
       "      <th>2</th>\n",
       "      <td>257</td>\n",
       "      <td>416</td>\n",
       "      <td>75</td>\n",
       "      <td>353</td>\n",
       "      <td>2</td>\n",
       "      <td>69</td>\n",
       "      <td>27</td>\n",
       "      <td>23</td>\n",
       "      <td>27</td>\n",
       "      <td>37</td>\n",
       "      <td>...</td>\n",
       "      <td>7</td>\n",
       "      <td>330</td>\n",
       "      <td>5</td>\n",
       "      <td>5</td>\n",
       "      <td>9</td>\n",
       "      <td>Quantitative</td>\n",
       "      <td>undergrad</td>\n",
       "      <td>Low Performance</td>\n",
       "      <td>0</td>\n",
       "      <td>7</td>\n",
       "    </tr>\n",
       "    <tr>\n",
       "      <th>3</th>\n",
       "      <td>331</td>\n",
       "      <td>725</td>\n",
       "      <td>113</td>\n",
       "      <td>564</td>\n",
       "      <td>39</td>\n",
       "      <td>57</td>\n",
       "      <td>32</td>\n",
       "      <td>29</td>\n",
       "      <td>32</td>\n",
       "      <td>37</td>\n",
       "      <td>...</td>\n",
       "      <td>7</td>\n",
       "      <td>319</td>\n",
       "      <td>7</td>\n",
       "      <td>6</td>\n",
       "      <td>8</td>\n",
       "      <td>Quantitative</td>\n",
       "      <td>undergrad</td>\n",
       "      <td>High Performance</td>\n",
       "      <td>3</td>\n",
       "      <td>4</td>\n",
       "    </tr>\n",
       "    <tr>\n",
       "      <th>4</th>\n",
       "      <td>544</td>\n",
       "      <td>1114</td>\n",
       "      <td>179</td>\n",
       "      <td>1890</td>\n",
       "      <td>152</td>\n",
       "      <td>85</td>\n",
       "      <td>36</td>\n",
       "      <td>28</td>\n",
       "      <td>36</td>\n",
       "      <td>44</td>\n",
       "      <td>...</td>\n",
       "      <td>6</td>\n",
       "      <td>223</td>\n",
       "      <td>4</td>\n",
       "      <td>6</td>\n",
       "      <td>8</td>\n",
       "      <td>Quantitative</td>\n",
       "      <td>undergrad</td>\n",
       "      <td>High Performance</td>\n",
       "      <td>2</td>\n",
       "      <td>5</td>\n",
       "    </tr>\n",
       "    <tr>\n",
       "      <th>...</th>\n",
       "      <td>...</td>\n",
       "      <td>...</td>\n",
       "      <td>...</td>\n",
       "      <td>...</td>\n",
       "      <td>...</td>\n",
       "      <td>...</td>\n",
       "      <td>...</td>\n",
       "      <td>...</td>\n",
       "      <td>...</td>\n",
       "      <td>...</td>\n",
       "      <td>...</td>\n",
       "      <td>...</td>\n",
       "      <td>...</td>\n",
       "      <td>...</td>\n",
       "      <td>...</td>\n",
       "      <td>...</td>\n",
       "      <td>...</td>\n",
       "      <td>...</td>\n",
       "      <td>...</td>\n",
       "      <td>...</td>\n",
       "      <td>...</td>\n",
       "    </tr>\n",
       "    <tr>\n",
       "      <th>469</th>\n",
       "      <td>38</td>\n",
       "      <td>103</td>\n",
       "      <td>2</td>\n",
       "      <td>107</td>\n",
       "      <td>12</td>\n",
       "      <td>13</td>\n",
       "      <td>5</td>\n",
       "      <td>7</td>\n",
       "      <td>5</td>\n",
       "      <td>5</td>\n",
       "      <td>...</td>\n",
       "      <td>1</td>\n",
       "      <td>32</td>\n",
       "      <td>0</td>\n",
       "      <td>1</td>\n",
       "      <td>1</td>\n",
       "      <td>Quantitative</td>\n",
       "      <td>grad</td>\n",
       "      <td>High Performance</td>\n",
       "      <td>1</td>\n",
       "      <td>1</td>\n",
       "    </tr>\n",
       "    <tr>\n",
       "      <th>470</th>\n",
       "      <td>78</td>\n",
       "      <td>350</td>\n",
       "      <td>5</td>\n",
       "      <td>265</td>\n",
       "      <td>2</td>\n",
       "      <td>43</td>\n",
       "      <td>8</td>\n",
       "      <td>9</td>\n",
       "      <td>8</td>\n",
       "      <td>10</td>\n",
       "      <td>...</td>\n",
       "      <td>1</td>\n",
       "      <td>16</td>\n",
       "      <td>0</td>\n",
       "      <td>1</td>\n",
       "      <td>1</td>\n",
       "      <td>Quantitative</td>\n",
       "      <td>grad</td>\n",
       "      <td>High Performance</td>\n",
       "      <td>1</td>\n",
       "      <td>6</td>\n",
       "    </tr>\n",
       "    <tr>\n",
       "      <th>471</th>\n",
       "      <td>20</td>\n",
       "      <td>140</td>\n",
       "      <td>0</td>\n",
       "      <td>148</td>\n",
       "      <td>0</td>\n",
       "      <td>22</td>\n",
       "      <td>6</td>\n",
       "      <td>8</td>\n",
       "      <td>6</td>\n",
       "      <td>7</td>\n",
       "      <td>...</td>\n",
       "      <td>1</td>\n",
       "      <td>22</td>\n",
       "      <td>0</td>\n",
       "      <td>1</td>\n",
       "      <td>1</td>\n",
       "      <td>Quantitative</td>\n",
       "      <td>grad</td>\n",
       "      <td>High Performance</td>\n",
       "      <td>1</td>\n",
       "      <td>1</td>\n",
       "    </tr>\n",
       "    <tr>\n",
       "      <th>472</th>\n",
       "      <td>34</td>\n",
       "      <td>203</td>\n",
       "      <td>0</td>\n",
       "      <td>112</td>\n",
       "      <td>11</td>\n",
       "      <td>23</td>\n",
       "      <td>3</td>\n",
       "      <td>5</td>\n",
       "      <td>3</td>\n",
       "      <td>6</td>\n",
       "      <td>...</td>\n",
       "      <td>1</td>\n",
       "      <td>6</td>\n",
       "      <td>0</td>\n",
       "      <td>0</td>\n",
       "      <td>1</td>\n",
       "      <td>Quantitative</td>\n",
       "      <td>grad</td>\n",
       "      <td>High Performance</td>\n",
       "      <td>1</td>\n",
       "      <td>1</td>\n",
       "    </tr>\n",
       "    <tr>\n",
       "      <th>473</th>\n",
       "      <td>23</td>\n",
       "      <td>119</td>\n",
       "      <td>0</td>\n",
       "      <td>122</td>\n",
       "      <td>9</td>\n",
       "      <td>32</td>\n",
       "      <td>7</td>\n",
       "      <td>8</td>\n",
       "      <td>7</td>\n",
       "      <td>7</td>\n",
       "      <td>...</td>\n",
       "      <td>1</td>\n",
       "      <td>12</td>\n",
       "      <td>0</td>\n",
       "      <td>1</td>\n",
       "      <td>1</td>\n",
       "      <td>Quantitative</td>\n",
       "      <td>grad</td>\n",
       "      <td>High Performance</td>\n",
       "      <td>1</td>\n",
       "      <td>1</td>\n",
       "    </tr>\n",
       "  </tbody>\n",
       "</table>\n",
       "<p>456 rows × 22 columns</p>\n",
       "</div>"
      ],
      "text/plain": [
       "     The status of the submission has been viewed.  Course module viewed  \\\n",
       "0                                              312                   869   \n",
       "1                                              190                   608   \n",
       "2                                              257                   416   \n",
       "3                                              331                   725   \n",
       "4                                              544                  1114   \n",
       "..                                             ...                   ...   \n",
       "469                                             38                   103   \n",
       "470                                             78                   350   \n",
       "471                                             20                   140   \n",
       "472                                             34                   203   \n",
       "473                                             23                   119   \n",
       "\n",
       "     Feedback viewed  Course viewed  Grade user report viewed  \\\n",
       "0                110            805                        89   \n",
       "1                 32            332                         7   \n",
       "2                 75            353                         2   \n",
       "3                113            564                        39   \n",
       "4                179           1890                       152   \n",
       "..               ...            ...                       ...   \n",
       "469                2            107                        12   \n",
       "470                5            265                         2   \n",
       "471                0            148                         0   \n",
       "472                0            112                        11   \n",
       "473                0            122                         9   \n",
       "\n",
       "     Course activity completion updated  A submission has been submitted.  \\\n",
       "0                                    58                                23   \n",
       "1                                    69                                29   \n",
       "2                                    69                                27   \n",
       "3                                    57                                32   \n",
       "4                                    85                                36   \n",
       "..                                  ...                               ...   \n",
       "469                                  13                                 5   \n",
       "470                                  43                                 8   \n",
       "471                                  22                                 6   \n",
       "472                                  23                                 3   \n",
       "473                                  32                                 7   \n",
       "\n",
       "     Submission created.  A file has been uploaded.  Submission form viewed.  \\\n",
       "0                     22                         23                        0   \n",
       "1                     26                         29                       30   \n",
       "2                     23                         27                       37   \n",
       "3                     29                         32                       37   \n",
       "4                     28                         36                       44   \n",
       "..                   ...                        ...                      ...   \n",
       "469                    7                          5                        5   \n",
       "470                    9                          8                       10   \n",
       "471                    8                          6                        7   \n",
       "472                    5                          3                        6   \n",
       "473                    8                          7                        7   \n",
       "\n",
       "     ...  Quiz attempt submitted  Quiz attempt viewed  User graded  \\\n",
       "0    ...                       6                  201            4   \n",
       "1    ...                       6                  302            6   \n",
       "2    ...                       7                  330            5   \n",
       "3    ...                       7                  319            7   \n",
       "4    ...                       6                  223            4   \n",
       "..   ...                     ...                  ...          ...   \n",
       "469  ...                       1                   32            0   \n",
       "470  ...                       1                   16            0   \n",
       "471  ...                       1                   22            0   \n",
       "472  ...                       1                    6            0   \n",
       "473  ...                       1                   12            0   \n",
       "\n",
       "     Quiz attempt summary viewed  Quiz attempt started          type  \\\n",
       "0                              6                     8  Quantitative   \n",
       "1                              4                     7  Quantitative   \n",
       "2                              5                     9  Quantitative   \n",
       "3                              6                     8  Quantitative   \n",
       "4                              6                     8  Quantitative   \n",
       "..                           ...                   ...           ...   \n",
       "469                            1                     1  Quantitative   \n",
       "470                            1                     1  Quantitative   \n",
       "471                            1                     1  Quantitative   \n",
       "472                            0                     1  Quantitative   \n",
       "473                            1                     1  Quantitative   \n",
       "\n",
       "         level            Grades cluster cluster_new  \n",
       "0    undergrad   Low Performance       3           2  \n",
       "1    undergrad  High Performance       0           0  \n",
       "2    undergrad   Low Performance       0           7  \n",
       "3    undergrad  High Performance       3           4  \n",
       "4    undergrad  High Performance       2           5  \n",
       "..         ...               ...     ...         ...  \n",
       "469       grad  High Performance       1           1  \n",
       "470       grad  High Performance       1           6  \n",
       "471       grad  High Performance       1           1  \n",
       "472       grad  High Performance       1           1  \n",
       "473       grad  High Performance       1           1  \n",
       "\n",
       "[456 rows x 22 columns]"
      ]
     },
     "execution_count": 157,
     "metadata": {},
     "output_type": "execute_result"
    }
   ],
   "source": [
    "test"
   ]
  },
  {
   "cell_type": "code",
   "execution_count": null,
   "metadata": {},
   "outputs": [],
   "source": []
  }
 ],
 "metadata": {
  "kernelspec": {
   "display_name": "Python 3",
   "language": "python",
   "name": "python3"
  },
  "language_info": {
   "codemirror_mode": {
    "name": "ipython",
    "version": 3
   },
   "file_extension": ".py",
   "mimetype": "text/x-python",
   "name": "python",
   "nbconvert_exporter": "python",
   "pygments_lexer": "ipython3",
   "version": "3.7.6"
  }
 },
 "nbformat": 4,
 "nbformat_minor": 2
}
